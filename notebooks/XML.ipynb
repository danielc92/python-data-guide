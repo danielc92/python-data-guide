{
 "cells": [
  {
   "cell_type": "markdown",
   "metadata": {},
   "source": [
    "# XML\n",
    "XML (extensive markup language) is another markup language, being very similar to HTML. Information in XML can look very messy, very nested. I will use Beautifulsoup's XML parser to make extracting information from XML more pain free.\n",
    "\n",
    "It follows the same basic structure as HTML.\n",
    "\n",
    "```xml\n",
    "<tagname attribute=\"value\">text</tagname>\n",
    "```"
   ]
  },
  {
   "cell_type": "markdown",
   "metadata": {},
   "source": [
    "### Imports\n",
    "bs4 as an XML parser\n",
    "requests to get the data from the url"
   ]
  },
  {
   "cell_type": "code",
   "execution_count": 4,
   "metadata": {},
   "outputs": [],
   "source": [
    "import bs4\n",
    "import requests"
   ]
  },
  {
   "cell_type": "markdown",
   "metadata": {},
   "source": [
    "### Set the url\n",
    "You can also parse xml from file system by providing the file path as opposed to a url."
   ]
  },
  {
   "cell_type": "code",
   "execution_count": 3,
   "metadata": {},
   "outputs": [],
   "source": [
    "xml_url = 'https://data.gov.au/data/dataset/4b7b5b50-774f-4416-90ce-5b7df85ff8ce/resource/aa0499fa-e19d-417d-bb1b-9589c0a19dbf/download/immigration.xml'"
   ]
  },
  {
   "cell_type": "markdown",
   "metadata": {},
   "source": [
    "### Create a request object and send a GET request to the site\n",
    "It returns status code 200, meaning it is ok to proceed"
   ]
  },
  {
   "cell_type": "code",
   "execution_count": 5,
   "metadata": {},
   "outputs": [],
   "source": [
    "r = requests.get(xml_url)"
   ]
  },
  {
   "cell_type": "code",
   "execution_count": 6,
   "metadata": {},
   "outputs": [
    {
     "data": {
      "text/plain": [
       "200"
      ]
     },
     "execution_count": 6,
     "metadata": {},
     "output_type": "execute_result"
    }
   ],
   "source": [
    "r.status_code"
   ]
  },
  {
   "cell_type": "markdown",
   "metadata": {},
   "source": [
    "### Convert the content from the request into a soup object with BeautifulSoup, specifying the parser (lxml)"
   ]
  },
  {
   "cell_type": "code",
   "execution_count": 7,
   "metadata": {},
   "outputs": [],
   "source": [
    "soup = bs4.BeautifulSoup(r.content, 'lxml')"
   ]
  },
  {
   "cell_type": "markdown",
   "metadata": {},
   "source": [
    "### Inspect soup object\n",
    "I'm going to preview the first 1500 chars of the XML to get an idea of the structure, you can also do this in browser. Immediately, you should be able to notice we have a tag called <records> and within that tag are multiple tags called record. So we can assume that the record tag contains row level data."
   ]
  },
  {
   "cell_type": "code",
   "execution_count": 19,
   "metadata": {},
   "outputs": [
    {
     "name": "stdout",
     "output_type": "stream",
     "text": [
      "<?xml version=\"1.0\"?>\n",
      "<html>\n",
      " <body>\n",
      "  <records>\n",
      "   <record id=\"1479486\">\n",
      "    <ni_url>\n",
      "     &lt;subfield_u&gt;https://stors.tas.gov.au/SWD4-1-1&lt;/subfield_u&gt;&lt;subfield_z&gt;SWD4/1/1&lt;/subfield_z&gt;\n",
      "    </ni_url>\n",
      "    <tasmanian>\n",
      "     Published in Tasmania\n",
      "    </tasmanian>\n",
      "    <tasmanian>\n",
      "     About Tasmania\n",
      "    </tasmanian>\n",
      "    <tasmanian>\n",
      "     By a Tasmanian\n",
      "    </tasmanian>\n",
      "    <ni_name_facet>\n",
      "     Cullen, Ira S.\n",
      "    </ni_name_facet>\n",
      "    <ni_index>\n",
      "     Immigration\n",
      "    </ni_index>\n",
      "    <pubdate_range>\n",
      "     1921\n",
      "    </pubdate_range>\n",
      "    <ni_name_full_display>\n",
      "     Cullen, Ira S.\n",
      "    </ni_name_full_display>\n",
      "    <cover_image_url>\n",
      "     https://stors.tas.gov.au/SWD4-1-1$givethumb\n",
      "    </cover_image_url>\n",
      "    <ni_doc_date>\n",
      "     12 Jul 1921\n",
      "    </ni_doc_date>\n",
      "    <linc_tas_avail>\n",
      "     Online\n",
      "    </linc_tas_avail>\n",
      "    <ni_name>\n",
      "     Cullen, Ira S.\n",
      "    </ni_name>\n",
      "    <relevance_sort>\n",
      "     0\n",
      "    </relevance_sort>\n",
      "    <pubdate>\n",
      "     1921\n",
      "    </pubdate>\n",
      "    <format>\n",
      "     VIEW\n",
      "    </format>\n",
      "    <access_level>\n",
      "     0\n",
      "    </access_level>\n",
      "    <access_level>\n",
      "     1\n",
      "    </access_level>\n",
      "    <access_level>\n",
      "     2\n",
      "    </access_level>\n",
      "    <access_level>\n",
      "     3\n",
      "    </access_level>\n",
      "    <access_level>\n",
      "     4\n",
      "    </access_level>\n",
      "    <ni_year>\n",
      "     1921\n",
      "    </ni_year>\n",
      "    <ni_catkey>\n",
      "     (Sirsi) 1479486\n",
      "    </ni_catkey>\n",
      "    <format_linctas>\n",
      "     Names Index\n",
      "    </format_linctas>\n",
      "    <title>\n",
      "     Cullen, Ira S.\n",
      "    </title>\n",
      "   </record>\n",
      "   <record id=\"1479487\">\n",
      "    <ni_url>\n",
      "     &lt;subfield_u&\n"
     ]
    }
   ],
   "source": [
    "print(soup.prettify()[:1500])"
   ]
  },
  {
   "cell_type": "markdown",
   "metadata": {},
   "source": [
    "### Storing all record tags\n",
    "Calling the findAll method on the soup object returns a list of **3530** record tags"
   ]
  },
  {
   "cell_type": "code",
   "execution_count": 10,
   "metadata": {},
   "outputs": [],
   "source": [
    "records = soup.findAll('record')"
   ]
  },
  {
   "cell_type": "code",
   "execution_count": 11,
   "metadata": {},
   "outputs": [
    {
     "data": {
      "text/plain": [
       "3530"
      ]
     },
     "execution_count": 11,
     "metadata": {},
     "output_type": "execute_result"
    }
   ],
   "source": [
    "len(records)"
   ]
  },
  {
   "cell_type": "markdown",
   "metadata": {},
   "source": [
    "### Creating a helper function\n",
    "This will be used to return the inner text from a tag. I am using a try except because if a tag does not exist it will throw an error back at us."
   ]
  },
  {
   "cell_type": "code",
   "execution_count": 42,
   "metadata": {},
   "outputs": [],
   "source": [
    "def getTagText(tag, tag_name):\n",
    "    try:\n",
    "        return tag.find(tag_name).text\n",
    "    except:\n",
    "        return None"
   ]
  },
  {
   "cell_type": "markdown",
   "metadata": {},
   "source": [
    "### Process the tags\n",
    "- First I create an empty `pandas.DataFrame()` to store extracted data in.\n",
    "- Next Iterate through each record using `enumerate`\n",
    "- Following that I target particular tags within the **<record>** tag I observed earlier using the `getTagText` helper function\n",
    "- Finally I store the results into the `pandas.DataFrame()` object using `.loc` method\n",
    "\n",
    "Note: the record_id value does not come from the inner text of a tag, it is actually an attributes value, therefore we have to use the `.get()` method"
   ]
  },
  {
   "cell_type": "code",
   "execution_count": 46,
   "metadata": {},
   "outputs": [],
   "source": [
    "data = pandas.DataFrame()\n",
    "\n",
    "for index, r in enumerate(records):\n",
    "    record_id = r.get('id')\n",
    "    pubdate = getTagText(r, 'pubdate')\n",
    "    ni_doc_date = getTagText(r, 'ni_doc_date')\n",
    "    title = getTagText(r, 'title')\n",
    "    ni_index = getTagText(r, 'ni_index')\n",
    "    ni_remarks = getTagText(r, 'ni_remarks')\n",
    "    cover_image_url = getTagText(r, 'cover_image_url')\n",
    "    \n",
    "    data.loc[index, 'record_id'] = record_id\n",
    "    data.loc[index, 'pubdate'] = pubdate\n",
    "    data.loc[index, 'ni_doc_date'] = ni_doc_date\n",
    "    data.loc[index, 'ni_index'] = ni_index\n",
    "    data.loc[index, 'title'] = title\n",
    "    data.loc[index, 'cover_image_url'] = cover_image_url"
   ]
  },
  {
   "cell_type": "markdown",
   "metadata": {},
   "source": [
    "### Inspect final data\n",
    "Here I just check the shape, to see if it matches the number of **record** tags we found earlier. I also run `.info()` on the dataframe to check how many values it missed. It appears it only missed a few for title, cover_image_url , pubdate and ni_doc_date. Finally I call `.head()` to preview the first 5 rows."
   ]
  },
  {
   "cell_type": "code",
   "execution_count": 48,
   "metadata": {},
   "outputs": [
    {
     "data": {
      "text/plain": [
       "(3530, 6)"
      ]
     },
     "execution_count": 48,
     "metadata": {},
     "output_type": "execute_result"
    }
   ],
   "source": [
    "data.shape"
   ]
  },
  {
   "cell_type": "code",
   "execution_count": 49,
   "metadata": {},
   "outputs": [
    {
     "name": "stdout",
     "output_type": "stream",
     "text": [
      "<class 'pandas.core.frame.DataFrame'>\n",
      "Int64Index: 3530 entries, 0 to 3529\n",
      "Data columns (total 6 columns):\n",
      "record_id          3530 non-null object\n",
      "pubdate            3528 non-null object\n",
      "ni_doc_date        3528 non-null object\n",
      "ni_index           3530 non-null object\n",
      "title              3529 non-null object\n",
      "cover_image_url    3528 non-null object\n",
      "dtypes: object(6)\n",
      "memory usage: 353.0+ KB\n"
     ]
    }
   ],
   "source": [
    "data.info()"
   ]
  },
  {
   "cell_type": "code",
   "execution_count": 47,
   "metadata": {},
   "outputs": [
    {
     "data": {
      "text/html": [
       "<div>\n",
       "<style scoped>\n",
       "    .dataframe tbody tr th:only-of-type {\n",
       "        vertical-align: middle;\n",
       "    }\n",
       "\n",
       "    .dataframe tbody tr th {\n",
       "        vertical-align: top;\n",
       "    }\n",
       "\n",
       "    .dataframe thead th {\n",
       "        text-align: right;\n",
       "    }\n",
       "</style>\n",
       "<table border=\"1\" class=\"dataframe\">\n",
       "  <thead>\n",
       "    <tr style=\"text-align: right;\">\n",
       "      <th></th>\n",
       "      <th>record_id</th>\n",
       "      <th>pubdate</th>\n",
       "      <th>ni_doc_date</th>\n",
       "      <th>ni_index</th>\n",
       "      <th>title</th>\n",
       "      <th>cover_image_url</th>\n",
       "    </tr>\n",
       "  </thead>\n",
       "  <tbody>\n",
       "    <tr>\n",
       "      <th>0</th>\n",
       "      <td>1479486</td>\n",
       "      <td>1921</td>\n",
       "      <td>12 Jul 1921</td>\n",
       "      <td>Immigration</td>\n",
       "      <td>Cullen, Ira S.</td>\n",
       "      <td>https://stors.tas.gov.au/SWD4-1-1$givethumb</td>\n",
       "    </tr>\n",
       "    <tr>\n",
       "      <th>1</th>\n",
       "      <td>1479487</td>\n",
       "      <td>1920</td>\n",
       "      <td>4 Nov 1920</td>\n",
       "      <td>Immigration</td>\n",
       "      <td>Newton, A.A.</td>\n",
       "      <td>https://stors.tas.gov.au/SWD4-1-2$givethumb</td>\n",
       "    </tr>\n",
       "    <tr>\n",
       "      <th>2</th>\n",
       "      <td>1479488</td>\n",
       "      <td>1920</td>\n",
       "      <td>1 Jan 1920</td>\n",
       "      <td>Immigration</td>\n",
       "      <td>Hurst, Frederick</td>\n",
       "      <td>https://stors.tas.gov.au/SWD4-1-3$givethumb</td>\n",
       "    </tr>\n",
       "    <tr>\n",
       "      <th>3</th>\n",
       "      <td>1479489</td>\n",
       "      <td>1920</td>\n",
       "      <td>1 Jan 1920</td>\n",
       "      <td>Immigration</td>\n",
       "      <td>Rhodes, H.A.</td>\n",
       "      <td>https://stors.tas.gov.au/SWD4-1-4$givethumb</td>\n",
       "    </tr>\n",
       "    <tr>\n",
       "      <th>4</th>\n",
       "      <td>1479490</td>\n",
       "      <td>1920</td>\n",
       "      <td>1 Jan 1920</td>\n",
       "      <td>Immigration</td>\n",
       "      <td>Whitton, B.J.</td>\n",
       "      <td>https://stors.tas.gov.au/SWD4-1-5$givethumb</td>\n",
       "    </tr>\n",
       "  </tbody>\n",
       "</table>\n",
       "</div>"
      ],
      "text/plain": [
       "  record_id pubdate  ni_doc_date     ni_index             title  \\\n",
       "0   1479486    1921  12 Jul 1921  Immigration    Cullen, Ira S.   \n",
       "1   1479487    1920   4 Nov 1920  Immigration      Newton, A.A.   \n",
       "2   1479488    1920   1 Jan 1920  Immigration  Hurst, Frederick   \n",
       "3   1479489    1920   1 Jan 1920  Immigration      Rhodes, H.A.   \n",
       "4   1479490    1920   1 Jan 1920  Immigration     Whitton, B.J.   \n",
       "\n",
       "                               cover_image_url  \n",
       "0  https://stors.tas.gov.au/SWD4-1-1$givethumb  \n",
       "1  https://stors.tas.gov.au/SWD4-1-2$givethumb  \n",
       "2  https://stors.tas.gov.au/SWD4-1-3$givethumb  \n",
       "3  https://stors.tas.gov.au/SWD4-1-4$givethumb  \n",
       "4  https://stors.tas.gov.au/SWD4-1-5$givethumb  "
      ]
     },
     "execution_count": 47,
     "metadata": {},
     "output_type": "execute_result"
    }
   ],
   "source": [
    "data.head()"
   ]
  }
 ],
 "metadata": {
  "kernelspec": {
   "display_name": "Python 3",
   "language": "python",
   "name": "python3"
  },
  "language_info": {
   "codemirror_mode": {
    "name": "ipython",
    "version": 3
   },
   "file_extension": ".py",
   "mimetype": "text/x-python",
   "name": "python",
   "nbconvert_exporter": "python",
   "pygments_lexer": "ipython3",
   "version": "3.7.3"
  }
 },
 "nbformat": 4,
 "nbformat_minor": 2
}
