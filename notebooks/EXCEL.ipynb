{
 "cells": [
  {
   "cell_type": "markdown",
   "metadata": {},
   "source": [
    "# EXCEL\n",
    "Excel is an extremely common format nearly everyone is familiar with, however managing Excel files within Excel can be a mess. Autonomously managing them can be achieved easily in Python and yields many benefits, albeit Excel is not particularly the best choice for managing data and you're better off using a relational database or NoSQL solution. \n",
    "\n",
    "This notebook will go through importing Excel files locally using `pandas`. Manipulating the data, followed by exporting to a new file, all while maintaining the lineage of the files."
   ]
  },
  {
   "cell_type": "markdown",
   "metadata": {},
   "source": [
    "### Import pandas\n",
    "We will use pandas to manipulate the data once its stored in a `pandas.DataFrame`"
   ]
  },
  {
   "cell_type": "code",
   "execution_count": 1,
   "metadata": {
    "ExecuteTime": {
     "end_time": "2019-06-07T07:29:44.060170Z",
     "start_time": "2019-06-07T07:29:43.776899Z"
    }
   },
   "outputs": [],
   "source": [
    "import pandas"
   ]
  },
  {
   "cell_type": "markdown",
   "metadata": {},
   "source": [
    "### Set the path\n",
    "This is randomly generated data"
   ]
  },
  {
   "cell_type": "code",
   "execution_count": 2,
   "metadata": {
    "ExecuteTime": {
     "end_time": "2019-06-07T07:29:44.064173Z",
     "start_time": "2019-06-07T07:29:44.062171Z"
    }
   },
   "outputs": [],
   "source": [
    "file_path = '../inputs/customer_dummy_data.xls'"
   ]
  },
  {
   "cell_type": "markdown",
   "metadata": {},
   "source": [
    "### Store the data by creating an instance of `pandas.ExcelFile`"
   ]
  },
  {
   "cell_type": "code",
   "execution_count": 3,
   "metadata": {
    "ExecuteTime": {
     "end_time": "2019-06-07T07:29:44.102208Z",
     "start_time": "2019-06-07T07:29:44.065173Z"
    }
   },
   "outputs": [],
   "source": [
    "data = pandas.ExcelFile(file_path)"
   ]
  },
  {
   "cell_type": "markdown",
   "metadata": {},
   "source": [
    "### Retrieving sheet names\n",
    "Some Excel files have multiple sheets, using this method ensures you can programmatically store all sheet names."
   ]
  },
  {
   "cell_type": "code",
   "execution_count": 4,
   "metadata": {
    "ExecuteTime": {
     "end_time": "2019-06-07T07:29:44.113220Z",
     "start_time": "2019-06-07T07:29:44.104210Z"
    }
   },
   "outputs": [
    {
     "data": {
      "text/plain": [
       "['customers', 'departments']"
      ]
     },
     "execution_count": 4,
     "metadata": {},
     "output_type": "execute_result"
    }
   ],
   "source": [
    "data.sheet_names"
   ]
  },
  {
   "cell_type": "markdown",
   "metadata": {},
   "source": [
    "### Storing the actual data\n",
    "The data from each sheet can be retrieved and stored using `.parse` method. Below I store the data for both sheets. You can also do this in a looping fashion and store the `DataFrame`s in something like a dictionary or array."
   ]
  },
  {
   "cell_type": "code",
   "execution_count": 5,
   "metadata": {
    "ExecuteTime": {
     "end_time": "2019-06-07T07:29:44.124230Z",
     "start_time": "2019-06-07T07:29:44.116222Z"
    }
   },
   "outputs": [],
   "source": [
    "customer_data = data.parse('customers')"
   ]
  },
  {
   "cell_type": "code",
   "execution_count": 6,
   "metadata": {
    "ExecuteTime": {
     "end_time": "2019-06-07T07:29:44.131236Z",
     "start_time": "2019-06-07T07:29:44.125231Z"
    }
   },
   "outputs": [],
   "source": [
    "department_data = data.parse('departments')"
   ]
  },
  {
   "cell_type": "markdown",
   "metadata": {},
   "source": [
    "### Preview data\n",
    "So you know what youre working with."
   ]
  },
  {
   "cell_type": "code",
   "execution_count": 7,
   "metadata": {
    "ExecuteTime": {
     "end_time": "2019-06-07T07:29:44.143248Z",
     "start_time": "2019-06-07T07:29:44.132237Z"
    }
   },
   "outputs": [
    {
     "data": {
      "text/html": [
       "<div>\n",
       "<style scoped>\n",
       "    .dataframe tbody tr th:only-of-type {\n",
       "        vertical-align: middle;\n",
       "    }\n",
       "\n",
       "    .dataframe tbody tr th {\n",
       "        vertical-align: top;\n",
       "    }\n",
       "\n",
       "    .dataframe thead th {\n",
       "        text-align: right;\n",
       "    }\n",
       "</style>\n",
       "<table border=\"1\" class=\"dataframe\">\n",
       "  <thead>\n",
       "    <tr style=\"text-align: right;\">\n",
       "      <th></th>\n",
       "      <th>customer_name</th>\n",
       "      <th>customer_email</th>\n",
       "      <th>join_date</th>\n",
       "      <th>customer_country</th>\n",
       "      <th>customer_guid</th>\n",
       "    </tr>\n",
       "  </thead>\n",
       "  <tbody>\n",
       "    <tr>\n",
       "      <th>0</th>\n",
       "      <td>Lucian</td>\n",
       "      <td>dictum.eu.eleifend@justofaucibus.co.uk</td>\n",
       "      <td>Dec 25, 2019</td>\n",
       "      <td>Luxembourg</td>\n",
       "      <td>694782D6-D43E-6408-41AE-66051506E79F</td>\n",
       "    </tr>\n",
       "    <tr>\n",
       "      <th>1</th>\n",
       "      <td>Len</td>\n",
       "      <td>mi.Aliquam.gravida@idliberoDonec.com</td>\n",
       "      <td>Jul 20, 2018</td>\n",
       "      <td>Saint Pierre and Miquelon</td>\n",
       "      <td>16F5F202-9BF5-FDAC-FF45-6686BCEC7F3F</td>\n",
       "    </tr>\n",
       "    <tr>\n",
       "      <th>2</th>\n",
       "      <td>Ria</td>\n",
       "      <td>tempus.non.lacinia@ornarelectusjusto.ca</td>\n",
       "      <td>Jul 5, 2019</td>\n",
       "      <td>Senegal</td>\n",
       "      <td>F4D3A063-5803-2547-AD06-C3EEEA39F2BB</td>\n",
       "    </tr>\n",
       "    <tr>\n",
       "      <th>3</th>\n",
       "      <td>Grady</td>\n",
       "      <td>felis.Nulla.tempor@ridiculusmusDonec.ca</td>\n",
       "      <td>Feb 23, 2019</td>\n",
       "      <td>El Salvador</td>\n",
       "      <td>7FA29C6D-F937-6DCF-983B-34C867FC2991</td>\n",
       "    </tr>\n",
       "    <tr>\n",
       "      <th>4</th>\n",
       "      <td>Joseph</td>\n",
       "      <td>nunc.ac.mattis@eros.net</td>\n",
       "      <td>Feb 19, 2019</td>\n",
       "      <td>French Southern Territories</td>\n",
       "      <td>DF7C0532-67D7-06BF-13CB-0189DE2B2B0C</td>\n",
       "    </tr>\n",
       "  </tbody>\n",
       "</table>\n",
       "</div>"
      ],
      "text/plain": [
       "  customer_name                           customer_email     join_date  \\\n",
       "0        Lucian   dictum.eu.eleifend@justofaucibus.co.uk  Dec 25, 2019   \n",
       "1           Len     mi.Aliquam.gravida@idliberoDonec.com  Jul 20, 2018   \n",
       "2           Ria  tempus.non.lacinia@ornarelectusjusto.ca   Jul 5, 2019   \n",
       "3         Grady  felis.Nulla.tempor@ridiculusmusDonec.ca  Feb 23, 2019   \n",
       "4        Joseph                  nunc.ac.mattis@eros.net  Feb 19, 2019   \n",
       "\n",
       "              customer_country                         customer_guid  \n",
       "0                   Luxembourg  694782D6-D43E-6408-41AE-66051506E79F  \n",
       "1    Saint Pierre and Miquelon  16F5F202-9BF5-FDAC-FF45-6686BCEC7F3F  \n",
       "2                      Senegal  F4D3A063-5803-2547-AD06-C3EEEA39F2BB  \n",
       "3                  El Salvador  7FA29C6D-F937-6DCF-983B-34C867FC2991  \n",
       "4  French Southern Territories  DF7C0532-67D7-06BF-13CB-0189DE2B2B0C  "
      ]
     },
     "execution_count": 7,
     "metadata": {},
     "output_type": "execute_result"
    }
   ],
   "source": [
    "customer_data.head()"
   ]
  },
  {
   "cell_type": "code",
   "execution_count": 8,
   "metadata": {
    "ExecuteTime": {
     "end_time": "2019-06-07T07:29:44.153257Z",
     "start_time": "2019-06-07T07:29:44.144249Z"
    }
   },
   "outputs": [
    {
     "data": {
      "text/html": [
       "<div>\n",
       "<style scoped>\n",
       "    .dataframe tbody tr th:only-of-type {\n",
       "        vertical-align: middle;\n",
       "    }\n",
       "\n",
       "    .dataframe tbody tr th {\n",
       "        vertical-align: top;\n",
       "    }\n",
       "\n",
       "    .dataframe thead th {\n",
       "        text-align: right;\n",
       "    }\n",
       "</style>\n",
       "<table border=\"1\" class=\"dataframe\">\n",
       "  <thead>\n",
       "    <tr style=\"text-align: right;\">\n",
       "      <th></th>\n",
       "      <th>department_id</th>\n",
       "      <th>department_name</th>\n",
       "      <th>department_start_date</th>\n",
       "    </tr>\n",
       "  </thead>\n",
       "  <tbody>\n",
       "    <tr>\n",
       "      <th>0</th>\n",
       "      <td>0</td>\n",
       "      <td>accounting</td>\n",
       "      <td>2011-07-26</td>\n",
       "    </tr>\n",
       "    <tr>\n",
       "      <th>1</th>\n",
       "      <td>1</td>\n",
       "      <td>human resources</td>\n",
       "      <td>2012-07-26</td>\n",
       "    </tr>\n",
       "    <tr>\n",
       "      <th>2</th>\n",
       "      <td>2</td>\n",
       "      <td>research and development</td>\n",
       "      <td>2012-02-10</td>\n",
       "    </tr>\n",
       "    <tr>\n",
       "      <th>3</th>\n",
       "      <td>3</td>\n",
       "      <td>legal</td>\n",
       "      <td>2012-03-08</td>\n",
       "    </tr>\n",
       "  </tbody>\n",
       "</table>\n",
       "</div>"
      ],
      "text/plain": [
       "   department_id           department_name department_start_date\n",
       "0              0                accounting            2011-07-26\n",
       "1              1           human resources            2012-07-26\n",
       "2              2  research and development            2012-02-10\n",
       "3              3                     legal            2012-03-08"
      ]
     },
     "execution_count": 8,
     "metadata": {},
     "output_type": "execute_result"
    }
   ],
   "source": [
    "department_data.head()"
   ]
  },
  {
   "cell_type": "markdown",
   "metadata": {},
   "source": [
    "### Making a few small transformations \n",
    "Im just going to do an uppercase transform on both `DataFrame`s for now."
   ]
  },
  {
   "cell_type": "code",
   "execution_count": 9,
   "metadata": {
    "ExecuteTime": {
     "end_time": "2019-06-07T07:29:44.160264Z",
     "start_time": "2019-06-07T07:29:44.154258Z"
    }
   },
   "outputs": [],
   "source": [
    "customer_data['customer_name'] = customer_data['customer_name'].astype(str).str.upper()\n",
    "customer_data['customer_country'] = customer_data['customer_country'].astype(str).str.upper()\n",
    "department_data['department_name'] = department_data['department_name'].astype(str).str.upper()"
   ]
  },
  {
   "cell_type": "markdown",
   "metadata": {},
   "source": [
    "### Preview\n",
    "Now we can see the customer_country, customer_name and department_name have been transformed to uppercase"
   ]
  },
  {
   "cell_type": "code",
   "execution_count": 10,
   "metadata": {
    "ExecuteTime": {
     "end_time": "2019-06-07T07:29:44.171274Z",
     "start_time": "2019-06-07T07:29:44.161265Z"
    }
   },
   "outputs": [
    {
     "data": {
      "text/html": [
       "<div>\n",
       "<style scoped>\n",
       "    .dataframe tbody tr th:only-of-type {\n",
       "        vertical-align: middle;\n",
       "    }\n",
       "\n",
       "    .dataframe tbody tr th {\n",
       "        vertical-align: top;\n",
       "    }\n",
       "\n",
       "    .dataframe thead th {\n",
       "        text-align: right;\n",
       "    }\n",
       "</style>\n",
       "<table border=\"1\" class=\"dataframe\">\n",
       "  <thead>\n",
       "    <tr style=\"text-align: right;\">\n",
       "      <th></th>\n",
       "      <th>customer_name</th>\n",
       "      <th>customer_email</th>\n",
       "      <th>join_date</th>\n",
       "      <th>customer_country</th>\n",
       "      <th>customer_guid</th>\n",
       "    </tr>\n",
       "  </thead>\n",
       "  <tbody>\n",
       "    <tr>\n",
       "      <th>0</th>\n",
       "      <td>LUCIAN</td>\n",
       "      <td>dictum.eu.eleifend@justofaucibus.co.uk</td>\n",
       "      <td>Dec 25, 2019</td>\n",
       "      <td>LUXEMBOURG</td>\n",
       "      <td>694782D6-D43E-6408-41AE-66051506E79F</td>\n",
       "    </tr>\n",
       "    <tr>\n",
       "      <th>1</th>\n",
       "      <td>LEN</td>\n",
       "      <td>mi.Aliquam.gravida@idliberoDonec.com</td>\n",
       "      <td>Jul 20, 2018</td>\n",
       "      <td>SAINT PIERRE AND MIQUELON</td>\n",
       "      <td>16F5F202-9BF5-FDAC-FF45-6686BCEC7F3F</td>\n",
       "    </tr>\n",
       "    <tr>\n",
       "      <th>2</th>\n",
       "      <td>RIA</td>\n",
       "      <td>tempus.non.lacinia@ornarelectusjusto.ca</td>\n",
       "      <td>Jul 5, 2019</td>\n",
       "      <td>SENEGAL</td>\n",
       "      <td>F4D3A063-5803-2547-AD06-C3EEEA39F2BB</td>\n",
       "    </tr>\n",
       "    <tr>\n",
       "      <th>3</th>\n",
       "      <td>GRADY</td>\n",
       "      <td>felis.Nulla.tempor@ridiculusmusDonec.ca</td>\n",
       "      <td>Feb 23, 2019</td>\n",
       "      <td>EL SALVADOR</td>\n",
       "      <td>7FA29C6D-F937-6DCF-983B-34C867FC2991</td>\n",
       "    </tr>\n",
       "    <tr>\n",
       "      <th>4</th>\n",
       "      <td>JOSEPH</td>\n",
       "      <td>nunc.ac.mattis@eros.net</td>\n",
       "      <td>Feb 19, 2019</td>\n",
       "      <td>FRENCH SOUTHERN TERRITORIES</td>\n",
       "      <td>DF7C0532-67D7-06BF-13CB-0189DE2B2B0C</td>\n",
       "    </tr>\n",
       "  </tbody>\n",
       "</table>\n",
       "</div>"
      ],
      "text/plain": [
       "  customer_name                           customer_email     join_date  \\\n",
       "0        LUCIAN   dictum.eu.eleifend@justofaucibus.co.uk  Dec 25, 2019   \n",
       "1           LEN     mi.Aliquam.gravida@idliberoDonec.com  Jul 20, 2018   \n",
       "2           RIA  tempus.non.lacinia@ornarelectusjusto.ca   Jul 5, 2019   \n",
       "3         GRADY  felis.Nulla.tempor@ridiculusmusDonec.ca  Feb 23, 2019   \n",
       "4        JOSEPH                  nunc.ac.mattis@eros.net  Feb 19, 2019   \n",
       "\n",
       "              customer_country                         customer_guid  \n",
       "0                   LUXEMBOURG  694782D6-D43E-6408-41AE-66051506E79F  \n",
       "1    SAINT PIERRE AND MIQUELON  16F5F202-9BF5-FDAC-FF45-6686BCEC7F3F  \n",
       "2                      SENEGAL  F4D3A063-5803-2547-AD06-C3EEEA39F2BB  \n",
       "3                  EL SALVADOR  7FA29C6D-F937-6DCF-983B-34C867FC2991  \n",
       "4  FRENCH SOUTHERN TERRITORIES  DF7C0532-67D7-06BF-13CB-0189DE2B2B0C  "
      ]
     },
     "execution_count": 10,
     "metadata": {},
     "output_type": "execute_result"
    }
   ],
   "source": [
    "customer_data.head()"
   ]
  },
  {
   "cell_type": "code",
   "execution_count": 11,
   "metadata": {
    "ExecuteTime": {
     "end_time": "2019-06-07T07:29:44.180283Z",
     "start_time": "2019-06-07T07:29:44.172275Z"
    }
   },
   "outputs": [
    {
     "data": {
      "text/html": [
       "<div>\n",
       "<style scoped>\n",
       "    .dataframe tbody tr th:only-of-type {\n",
       "        vertical-align: middle;\n",
       "    }\n",
       "\n",
       "    .dataframe tbody tr th {\n",
       "        vertical-align: top;\n",
       "    }\n",
       "\n",
       "    .dataframe thead th {\n",
       "        text-align: right;\n",
       "    }\n",
       "</style>\n",
       "<table border=\"1\" class=\"dataframe\">\n",
       "  <thead>\n",
       "    <tr style=\"text-align: right;\">\n",
       "      <th></th>\n",
       "      <th>department_id</th>\n",
       "      <th>department_name</th>\n",
       "      <th>department_start_date</th>\n",
       "    </tr>\n",
       "  </thead>\n",
       "  <tbody>\n",
       "    <tr>\n",
       "      <th>0</th>\n",
       "      <td>0</td>\n",
       "      <td>ACCOUNTING</td>\n",
       "      <td>2011-07-26</td>\n",
       "    </tr>\n",
       "    <tr>\n",
       "      <th>1</th>\n",
       "      <td>1</td>\n",
       "      <td>HUMAN RESOURCES</td>\n",
       "      <td>2012-07-26</td>\n",
       "    </tr>\n",
       "    <tr>\n",
       "      <th>2</th>\n",
       "      <td>2</td>\n",
       "      <td>RESEARCH AND DEVELOPMENT</td>\n",
       "      <td>2012-02-10</td>\n",
       "    </tr>\n",
       "    <tr>\n",
       "      <th>3</th>\n",
       "      <td>3</td>\n",
       "      <td>LEGAL</td>\n",
       "      <td>2012-03-08</td>\n",
       "    </tr>\n",
       "  </tbody>\n",
       "</table>\n",
       "</div>"
      ],
      "text/plain": [
       "   department_id           department_name department_start_date\n",
       "0              0                ACCOUNTING            2011-07-26\n",
       "1              1           HUMAN RESOURCES            2012-07-26\n",
       "2              2  RESEARCH AND DEVELOPMENT            2012-02-10\n",
       "3              3                     LEGAL            2012-03-08"
      ]
     },
     "execution_count": 11,
     "metadata": {},
     "output_type": "execute_result"
    }
   ],
   "source": [
    "department_data.head()"
   ]
  },
  {
   "cell_type": "markdown",
   "metadata": {},
   "source": [
    "### Create the export path name\n",
    "Note: this file does not exist yet"
   ]
  },
  {
   "cell_type": "code",
   "execution_count": 12,
   "metadata": {
    "ExecuteTime": {
     "end_time": "2019-06-07T07:29:44.183286Z",
     "start_time": "2019-06-07T07:29:44.181284Z"
    }
   },
   "outputs": [],
   "source": [
    "export_path = '../../customer_data_transformed.xlsx'"
   ]
  },
  {
   "cell_type": "markdown",
   "metadata": {},
   "source": [
    "### Exporting\n",
    "In order to export you will have to use the `pandas.ExcelWriter` object. The reason why I use this and not `pandas.DataFrame.to_excel` is because this has support for multiple sheets. Writing two `DataFrames` to the writer object then saving to disk can be done like so. If you don't want the index column, specify `index=false`"
   ]
  },
  {
   "cell_type": "code",
   "execution_count": 14,
   "metadata": {
    "ExecuteTime": {
     "end_time": "2019-06-07T07:30:24.478992Z",
     "start_time": "2019-06-07T07:30:24.441957Z"
    }
   },
   "outputs": [],
   "source": [
    "with pandas.ExcelWriter(export_path) as writer:\n",
    "    customer_data.to_excel(writer, sheet_name='customer_data_transformed', index_label='row_index')\n",
    "    department_data.to_excel(writer, sheet_name='department_data_transformed', index_label='row_index')"
   ]
  }
 ],
 "metadata": {
  "kernelspec": {
   "display_name": "Python 3",
   "language": "python",
   "name": "python3"
  },
  "language_info": {
   "codemirror_mode": {
    "name": "ipython",
    "version": 3
   },
   "file_extension": ".py",
   "mimetype": "text/x-python",
   "name": "python",
   "nbconvert_exporter": "python",
   "pygments_lexer": "ipython3",
   "version": "3.7.2"
  },
  "toc": {
   "base_numbering": 1,
   "nav_menu": {},
   "number_sections": true,
   "sideBar": true,
   "skip_h1_title": false,
   "title_cell": "Table of Contents",
   "title_sidebar": "Contents",
   "toc_cell": false,
   "toc_position": {},
   "toc_section_display": true,
   "toc_window_display": false
  },
  "varInspector": {
   "cols": {
    "lenName": 16,
    "lenType": 16,
    "lenVar": 40
   },
   "kernels_config": {
    "python": {
     "delete_cmd_postfix": "",
     "delete_cmd_prefix": "del ",
     "library": "var_list.py",
     "varRefreshCmd": "print(var_dic_list())"
    },
    "r": {
     "delete_cmd_postfix": ") ",
     "delete_cmd_prefix": "rm(",
     "library": "var_list.r",
     "varRefreshCmd": "cat(var_dic_list()) "
    }
   },
   "types_to_exclude": [
    "module",
    "function",
    "builtin_function_or_method",
    "instance",
    "_Feature"
   ],
   "window_display": false
  }
 },
 "nbformat": 4,
 "nbformat_minor": 2
}
