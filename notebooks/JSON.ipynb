{
 "cells": [
  {
   "cell_type": "markdown",
   "metadata": {},
   "source": [
    "# JSON\n",
    "JSON uses a {`key`:`value`} format and is an extemely common data format, especially in the web (APIs). JSON can take many formats, they can be a list of dictionaries, a single dictionary, a dictionary containing a dictionary, a dictionary containing lists of dictionaries etc. Due to this nature they can be highly nested and sometimes a bit tricky to work with."
   ]
  },
  {
   "cell_type": "markdown",
   "metadata": {},
   "source": [
    "### Imports\n",
    "`json` is a native library in python, so you dont need to install it"
   ]
  },
  {
   "cell_type": "code",
   "execution_count": 1,
   "metadata": {},
   "outputs": [],
   "source": [
    "import json"
   ]
  },
  {
   "cell_type": "markdown",
   "metadata": {},
   "source": [
    "### Reading in JSON"
   ]
  },
  {
   "cell_type": "code",
   "execution_count": 2,
   "metadata": {},
   "outputs": [],
   "source": [
    "with open('../inputs/animals.json', 'r') as f:\n",
    "    animals = json.load(f)\n",
    "    f.close()"
   ]
  },
  {
   "cell_type": "markdown",
   "metadata": {},
   "source": [
    "### Preview the data"
   ]
  },
  {
   "cell_type": "code",
   "execution_count": 3,
   "metadata": {},
   "outputs": [
    {
     "data": {
      "text/plain": [
       "[{'name': 'Kitty',\n",
       "  'species': 'cat',\n",
       "  'foods': {'likes': ['fresh food'], 'dislikes': ['stale food']}},\n",
       " {'name': 'Pupster',\n",
       "  'species': 'dog',\n",
       "  'foods': {'likes': ['tomatoes', 'peas'], 'dislikes': ['bread']}},\n",
       " {'name': 'Tux',\n",
       "  'species': 'cat',\n",
       "  'foods': {'likes': ['fancy dishes'], 'dislikes': ['basic cat food']}}]"
      ]
     },
     "execution_count": 3,
     "metadata": {},
     "output_type": "execute_result"
    }
   ],
   "source": [
    "animals"
   ]
  },
  {
   "cell_type": "markdown",
   "metadata": {},
   "source": [
    "### Checking \n",
    "How many dictionaries we have in the list"
   ]
  },
  {
   "cell_type": "code",
   "execution_count": 4,
   "metadata": {},
   "outputs": [
    {
     "data": {
      "text/plain": [
       "3"
      ]
     },
     "execution_count": 4,
     "metadata": {},
     "output_type": "execute_result"
    }
   ],
   "source": [
    "len(animals)"
   ]
  },
  {
   "cell_type": "markdown",
   "metadata": {},
   "source": [
    "### Accessing keys from each dictionary\n",
    "You can access the key from a dictionary using `dictionary['key']` or `dictionary.key` notation. In this example I access the name and species key from each dictionary and print it."
   ]
  },
  {
   "cell_type": "code",
   "execution_count": 5,
   "metadata": {},
   "outputs": [
    {
     "name": "stdout",
     "output_type": "stream",
     "text": [
      "Kitty\n",
      "Pupster\n",
      "Tux\n"
     ]
    }
   ],
   "source": [
    "for a in animals:\n",
    "    print(a['name'])"
   ]
  },
  {
   "cell_type": "code",
   "execution_count": 6,
   "metadata": {},
   "outputs": [
    {
     "name": "stdout",
     "output_type": "stream",
     "text": [
      "cat\n",
      "dog\n",
      "cat\n"
     ]
    }
   ],
   "source": [
    "for a in animals:\n",
    "    print(a['species'])"
   ]
  },
  {
   "cell_type": "markdown",
   "metadata": {},
   "source": [
    "### Accessing nested objects"
   ]
  },
  {
   "cell_type": "code",
   "execution_count": 7,
   "metadata": {},
   "outputs": [
    {
     "name": "stdout",
     "output_type": "stream",
     "text": [
      "Found a like:  fresh food\n",
      "Found a like:  tomatoes\n",
      "Found a like:  peas\n",
      "Found a like:  fancy dishes\n"
     ]
    }
   ],
   "source": [
    "for a in animals:\n",
    "    for like in a['foods']['likes']:\n",
    "        print('Found a like: ', like)"
   ]
  },
  {
   "cell_type": "markdown",
   "metadata": {},
   "source": [
    "### Updating JSON"
   ]
  },
  {
   "cell_type": "code",
   "execution_count": 8,
   "metadata": {},
   "outputs": [],
   "source": [
    "for a in animals:\n",
    "    a['inspected'] = '20190528'"
   ]
  },
  {
   "cell_type": "code",
   "execution_count": 9,
   "metadata": {},
   "outputs": [
    {
     "data": {
      "text/plain": [
       "[{'name': 'Kitty',\n",
       "  'species': 'cat',\n",
       "  'foods': {'likes': ['fresh food'], 'dislikes': ['stale food']},\n",
       "  'inspected': '20190528'},\n",
       " {'name': 'Pupster',\n",
       "  'species': 'dog',\n",
       "  'foods': {'likes': ['tomatoes', 'peas'], 'dislikes': ['bread']},\n",
       "  'inspected': '20190528'},\n",
       " {'name': 'Tux',\n",
       "  'species': 'cat',\n",
       "  'foods': {'likes': ['fancy dishes'], 'dislikes': ['basic cat food']},\n",
       "  'inspected': '20190528'}]"
      ]
     },
     "execution_count": 9,
     "metadata": {},
     "output_type": "execute_result"
    }
   ],
   "source": [
    "animals"
   ]
  },
  {
   "cell_type": "markdown",
   "metadata": {},
   "source": [
    "### Saving JSON to filesystem"
   ]
  },
  {
   "cell_type": "code",
   "execution_count": 10,
   "metadata": {},
   "outputs": [],
   "source": [
    "with open('../outputs/animals-new.json', 'w') as f:\n",
    "    json.dump(animals, f)"
   ]
  }
 ],
 "metadata": {
  "kernelspec": {
   "display_name": "Python 3",
   "language": "python",
   "name": "python3"
  },
  "language_info": {
   "codemirror_mode": {
    "name": "ipython",
    "version": 3
   },
   "file_extension": ".py",
   "mimetype": "text/x-python",
   "name": "python",
   "nbconvert_exporter": "python",
   "pygments_lexer": "ipython3",
   "version": "3.7.3"
  }
 },
 "nbformat": 4,
 "nbformat_minor": 2
}
