{
 "cells": [
  {
   "cell_type": "markdown",
   "metadata": {},
   "source": [
    "# NOSQL\n",
    "`NOSQL` is a an alternative database implementation to `SQL` (relational databases). It uses a collection - document model as opposed to highly structured method in which SQL is implemented. In NOSQL, objects take on a dictionary like structure, therefore it can be closely integrated with many programming languages, is highly scalable and provides enormous flexiblity in how you structure your database. I will be using a popular NOSQL solution called MongoDB and connect to my local instance with python in order to interact with a MongoDB database."
   ]
  },
  {
   "cell_type": "markdown",
   "metadata": {},
   "source": [
    "### Installation (optional)\n",
    "You may not need to install it, if you have a database cluster available in the cloud. I installed a local instance of MongoDB on Ubuntu 19.04, however if youre on Mac you will most likely need to use brew to install MongoDB.\n",
    "```sh\n",
    "sudo apt upgrade\n",
    "sudo apt install -y mongodb\n",
    "```\n",
    "\n",
    "You will also need to install the python module to connect to MongoDB. After you've activated your virtual environment.\n",
    "```sh\n",
    "pip install pymongo\n",
    "```"
   ]
  },
  {
   "cell_type": "markdown",
   "metadata": {},
   "source": [
    "### Imports "
   ]
  },
  {
   "cell_type": "code",
   "execution_count": 1,
   "metadata": {},
   "outputs": [],
   "source": [
    "import pymongo"
   ]
  },
  {
   "cell_type": "markdown",
   "metadata": {},
   "source": [
    "### Connecting"
   ]
  },
  {
   "cell_type": "code",
   "execution_count": 2,
   "metadata": {},
   "outputs": [],
   "source": [
    "uri = 'mongodb://localhost:27017/'\n",
    "\n",
    "connection = pymongo.MongoClient(uri)"
   ]
  },
  {
   "cell_type": "code",
   "execution_count": 4,
   "metadata": {},
   "outputs": [
    {
     "data": {
      "text/plain": [
       "['HOST',\n",
       " 'PORT',\n",
       " '_BaseObject__codec_options',\n",
       " '_BaseObject__read_concern',\n",
       " '_BaseObject__read_preference',\n",
       " '_BaseObject__write_concern',\n",
       " '_MongoClient__all_credentials',\n",
       " '_MongoClient__cursor_manager',\n",
       " '_MongoClient__default_database_name',\n",
       " '_MongoClient__index_cache',\n",
       " '_MongoClient__index_cache_lock',\n",
       " '_MongoClient__kill_cursors_queue',\n",
       " '_MongoClient__lock',\n",
       " '_MongoClient__options',\n",
       " '_MongoClient__reset_server',\n",
       " '_MongoClient__start_session',\n",
       " '__class__',\n",
       " '__delattr__',\n",
       " '__dict__',\n",
       " '__dir__',\n",
       " '__doc__',\n",
       " '__enter__',\n",
       " '__eq__',\n",
       " '__exit__',\n",
       " '__format__',\n",
       " '__ge__',\n",
       " '__getattr__',\n",
       " '__getattribute__',\n",
       " '__getitem__',\n",
       " '__gt__',\n",
       " '__hash__',\n",
       " '__init__',\n",
       " '__init_subclass__',\n",
       " '__iter__',\n",
       " '__le__',\n",
       " '__lt__',\n",
       " '__module__',\n",
       " '__ne__',\n",
       " '__new__',\n",
       " '__next__',\n",
       " '__reduce__',\n",
       " '__reduce_ex__',\n",
       " '__repr__',\n",
       " '__setattr__',\n",
       " '__sizeof__',\n",
       " '__str__',\n",
       " '__subclasshook__',\n",
       " '__weakref__',\n",
       " '_cache_credentials',\n",
       " '_cache_index',\n",
       " '_cached',\n",
       " '_close_cursor',\n",
       " '_close_cursor_now',\n",
       " '_constructor_args',\n",
       " '_database_default_options',\n",
       " '_end_sessions',\n",
       " '_ensure_session',\n",
       " '_event_listeners',\n",
       " '_get_server_session',\n",
       " '_get_socket',\n",
       " '_get_topology',\n",
       " '_is_mongos_non_blocking',\n",
       " '_is_writable',\n",
       " '_kill_cursors',\n",
       " '_kill_cursors_executor',\n",
       " '_process_periodic_tasks',\n",
       " '_purge_credentials',\n",
       " '_purge_index',\n",
       " '_read_preference_for',\n",
       " '_receive_cluster_time',\n",
       " '_repr_helper',\n",
       " '_reset_on_error',\n",
       " '_reset_server_and_request_check',\n",
       " '_retry_with_session',\n",
       " '_retryable_write',\n",
       " '_return_server_session',\n",
       " '_send_cluster_time',\n",
       " '_send_message_with_response',\n",
       " '_server_property',\n",
       " '_socket_for_reads',\n",
       " '_socket_for_writes',\n",
       " '_tmp_session',\n",
       " '_topology',\n",
       " '_topology_settings',\n",
       " '_write_concern_for',\n",
       " 'address',\n",
       " 'arbiters',\n",
       " 'close',\n",
       " 'close_cursor',\n",
       " 'codec_options',\n",
       " 'database_names',\n",
       " 'drop_database',\n",
       " 'event_listeners',\n",
       " 'fsync',\n",
       " 'get_database',\n",
       " 'get_default_database',\n",
       " 'is_locked',\n",
       " 'is_mongos',\n",
       " 'is_primary',\n",
       " 'kill_cursors',\n",
       " 'list_database_names',\n",
       " 'list_databases',\n",
       " 'local_threshold_ms',\n",
       " 'max_bson_size',\n",
       " 'max_idle_time_ms',\n",
       " 'max_message_size',\n",
       " 'max_pool_size',\n",
       " 'max_write_batch_size',\n",
       " 'min_pool_size',\n",
       " 'next',\n",
       " 'nodes',\n",
       " 'primary',\n",
       " 'read_concern',\n",
       " 'read_preference',\n",
       " 'retry_writes',\n",
       " 'secondaries',\n",
       " 'server_info',\n",
       " 'server_selection_timeout',\n",
       " 'set_cursor_manager',\n",
       " 'start_session',\n",
       " 'unlock',\n",
       " 'watch',\n",
       " 'write_concern']"
      ]
     },
     "execution_count": 4,
     "metadata": {},
     "output_type": "execute_result"
    }
   ],
   "source": [
    "connection"
   ]
  },
  {
   "cell_type": "markdown",
   "metadata": {},
   "source": [
    "### Verifying connection \n",
    "Calling `server_info()` function on the connection object shows all sorts of info about the database and connection. Databases can be listed with the `list_databases()` function"
   ]
  },
  {
   "cell_type": "code",
   "execution_count": 10,
   "metadata": {},
   "outputs": [
    {
     "data": {
      "text/plain": [
       "{'version': '3.6.8',\n",
       " 'gitVersion': '8e540c0b6db93ce994cc548f000900bdc740f80a',\n",
       " 'modules': [],\n",
       " 'allocator': 'tcmalloc',\n",
       " 'javascriptEngine': 'mozjs',\n",
       " 'sysInfo': 'deprecated',\n",
       " 'versionArray': [3, 6, 8, 0],\n",
       " 'openssl': {'running': 'OpenSSL 1.1.1b  26 Feb 2019',\n",
       "  'compiled': 'OpenSSL 1.1.1a  20 Nov 2018'},\n",
       " 'buildEnvironment': {'distmod': '',\n",
       "  'distarch': 'x86_64',\n",
       "  'cc': 'cc: cc (Ubuntu 8.2.0-12ubuntu1) 8.2.0',\n",
       "  'ccflags': '-fno-omit-frame-pointer -fno-strict-aliasing -ggdb -pthread -Wall -Wsign-compare -Wno-unknown-pragmas -Wno-error=c++1z-compat -Wno-error=noexcept-type -Wno-error=format-truncation -Wno-error=int-in-bool-context -Winvalid-pch -Werror -O2 -Wno-unused-local-typedefs -Wno-unused-function -Wno-deprecated-declarations -Wno-unused-const-variable -Wno-unused-but-set-variable -Wno-missing-braces -Wno-format-truncation -fstack-protector-strong -fno-builtin-memcmp',\n",
       "  'cxx': 'g++: g++ (Ubuntu 8.2.0-12ubuntu1) 8.2.0',\n",
       "  'cxxflags': '-g -O2 -fdebug-prefix-map=/build/mongodb-IbKmf8/mongodb-3.6.9+really3.6.8+90~g8e540c0b6d=. -fstack-protector-strong -Wformat -Werror=format-security -Woverloaded-virtual -Wno-maybe-uninitialized -Wno-class-memaccess -std=c++14',\n",
       "  'linkflags': '-Wl,-Bsymbolic-functions -Wl,-z,relro -pthread -Wl,-z,now -rdynamic -Wl,--fatal-warnings -fstack-protector-strong -fuse-ld=gold -Wl,--build-id -Wl,--hash-style=gnu -Wl,-z,noexecstack -Wl,--warn-execstack -Wl,-z,relro',\n",
       "  'target_arch': 'x86_64',\n",
       "  'target_os': 'linux'},\n",
       " 'bits': 64,\n",
       " 'debug': False,\n",
       " 'maxBsonObjectSize': 16777216,\n",
       " 'storageEngines': ['devnull', 'ephemeralForTest', 'mmapv1', 'wiredTiger'],\n",
       " 'ok': 1.0}"
      ]
     },
     "execution_count": 10,
     "metadata": {},
     "output_type": "execute_result"
    }
   ],
   "source": [
    "connection.server_info()"
   ]
  },
  {
   "cell_type": "code",
   "execution_count": 13,
   "metadata": {},
   "outputs": [
    {
     "name": "stdout",
     "output_type": "stream",
     "text": [
      "{'name': 'admin', 'sizeOnDisk': 32768.0, 'empty': False}\n",
      "{'name': 'config', 'sizeOnDisk': 12288.0, 'empty': False}\n",
      "{'name': 'local', 'sizeOnDisk': 32768.0, 'empty': False}\n"
     ]
    }
   ],
   "source": [
    "for db in connection.list_databases():\n",
    "    print(db)"
   ]
  },
  {
   "cell_type": "markdown",
   "metadata": {},
   "source": [
    "### Creating a database \n",
    "Unlike `SQL` where your schema creates the tables beforehand. In NOSQL the database and collections arent created until data is inserted into them. For now Ill make a database called 'office'"
   ]
  },
  {
   "cell_type": "code",
   "execution_count": 14,
   "metadata": {},
   "outputs": [],
   "source": [
    "database = connection['office']"
   ]
  },
  {
   "cell_type": "markdown",
   "metadata": {},
   "source": [
    "### Creating a collection\n",
    "Within the office database ill create a furniture collection"
   ]
  },
  {
   "cell_type": "code",
   "execution_count": 16,
   "metadata": {},
   "outputs": [],
   "source": [
    "furniture = database['furniture']"
   ]
  },
  {
   "cell_type": "markdown",
   "metadata": {},
   "source": [
    "### Inserting single document into a collection\n",
    "Within the furniture collection I can insert one document in the form of a python dictionary, using `insert_one`"
   ]
  },
  {
   "cell_type": "code",
   "execution_count": 18,
   "metadata": {},
   "outputs": [],
   "source": [
    "garys_chair = {\n",
    "                'brand':'furniture r us',\n",
    "                'current-owner':'Gary Goods',\n",
    "                'type':'leather',\n",
    "                'weight-cap-kg': 150,\n",
    "                'colour': 'green',\n",
    "                'purchased': '1990-12-20',\n",
    "                'cleaned': ['1991-05-01', '2001-05-05']\n",
    "              }"
   ]
  },
  {
   "cell_type": "code",
   "execution_count": 19,
   "metadata": {},
   "outputs": [
    {
     "data": {
      "text/plain": [
       "<pymongo.results.InsertOneResult at 0x7f2061502948>"
      ]
     },
     "execution_count": 19,
     "metadata": {},
     "output_type": "execute_result"
    }
   ],
   "source": [
    "furniture.insert_one(garys_chair)"
   ]
  },
  {
   "cell_type": "markdown",
   "metadata": {},
   "source": [
    "### Inserting multiple documents into a collection\n",
    "Alternatively you can insert many dictionaries in a list, by calling `insert_many` on your collection object"
   ]
  },
  {
   "cell_type": "code",
   "execution_count": 27,
   "metadata": {},
   "outputs": [],
   "source": [
    "tables = [{'brand':'furniture r us', 'length': 180, 'width': 30, 'area': 'kitchen'},\n",
    "          {'brand':'furniture r us', 'length': 180, 'width': 30, 'area': 'meeting room 1'},\n",
    "          {'brand':'furniture r us', 'length': 180, 'width': 30, 'area': 'meeting room 2'}]"
   ]
  },
  {
   "cell_type": "code",
   "execution_count": 28,
   "metadata": {},
   "outputs": [
    {
     "data": {
      "text/plain": [
       "<pymongo.results.InsertManyResult at 0x7f206148c608>"
      ]
     },
     "execution_count": 28,
     "metadata": {},
     "output_type": "execute_result"
    }
   ],
   "source": [
    "furniture.insert_many(tables)"
   ]
  },
  {
   "cell_type": "markdown",
   "metadata": {},
   "source": [
    "### Retrieving documents\n",
    "Retrieve all documents from collection like so, you can also pass in filter dictionary. For example {'colour':'red'} will return only documents matching that criteria."
   ]
  },
  {
   "cell_type": "code",
   "execution_count": 29,
   "metadata": {},
   "outputs": [],
   "source": [
    "results = furniture.find()"
   ]
  },
  {
   "cell_type": "code",
   "execution_count": 30,
   "metadata": {},
   "outputs": [
    {
     "name": "stdout",
     "output_type": "stream",
     "text": [
      "{'_id': ObjectId('5cee07433041c7553e0fcc51'), 'brand': 'furniture r us', 'current-owner': 'Gary Goods', 'type': 'leather', 'weight-cap-kg': 150, 'colour': 'green', 'purchased': '1990-12-20', 'cleaned': ['1991-05-01', '2001-05-05']}\n",
      "{'_id': ObjectId('5cee080d3041c7553e0fcc52'), 'brand': 'furniture r us', 'length': 180, 'width': 30, 'area': 'kitchen'}\n",
      "{'_id': ObjectId('5cee080d3041c7553e0fcc53'), 'brand': 'furniture r us', 'length': 180, 'width': 30, 'area': 'meeting room 1'}\n",
      "{'_id': ObjectId('5cee080d3041c7553e0fcc54'), 'brand': 'furniture r us', 'length': 180, 'width': 30, 'area': 'meeting room 2'}\n"
     ]
    }
   ],
   "source": [
    "for x in results:\n",
    "    print(x)"
   ]
  },
  {
   "cell_type": "markdown",
   "metadata": {},
   "source": [
    "### Updating a document\n",
    "Updating is fairly straight forward too. You use `$set` command. There are more commands like this, for example `$push` can be used to insert more objects into an array within a document. In this example I change the document where Gary Goods is the owner from colour green to red, and print the results afterwards"
   ]
  },
  {
   "cell_type": "code",
   "execution_count": 31,
   "metadata": {},
   "outputs": [
    {
     "data": {
      "text/plain": [
       "<pymongo.results.UpdateResult at 0x7f2061502608>"
      ]
     },
     "execution_count": 31,
     "metadata": {},
     "output_type": "execute_result"
    }
   ],
   "source": [
    "furniture.update_one({'current-owner': 'Gary Goods'}, {'$set':{'colour': 'red'}})"
   ]
  },
  {
   "cell_type": "code",
   "execution_count": 32,
   "metadata": {},
   "outputs": [
    {
     "data": {
      "text/plain": [
       "{'_id': ObjectId('5cee07433041c7553e0fcc51'),\n",
       " 'brand': 'furniture r us',\n",
       " 'current-owner': 'Gary Goods',\n",
       " 'type': 'leather',\n",
       " 'weight-cap-kg': 150,\n",
       " 'colour': 'red',\n",
       " 'purchased': '1990-12-20',\n",
       " 'cleaned': ['1991-05-01', '2001-05-05']}"
      ]
     },
     "execution_count": 32,
     "metadata": {},
     "output_type": "execute_result"
    }
   ],
   "source": [
    "furniture.find({'current-owner':'Gary Goods'})[0]"
   ]
  },
  {
   "cell_type": "markdown",
   "metadata": {},
   "source": [
    "### Deleting a document \n",
    "If we want to remove a document, `delete_one` can be called on the collection object, specifying a criteria for deletion."
   ]
  },
  {
   "cell_type": "code",
   "execution_count": 33,
   "metadata": {},
   "outputs": [
    {
     "data": {
      "text/plain": [
       "<pymongo.results.DeleteResult at 0x7f20614960c8>"
      ]
     },
     "execution_count": 33,
     "metadata": {},
     "output_type": "execute_result"
    }
   ],
   "source": [
    "furniture.delete_one({'area': 'meeting room 2'})"
   ]
  }
 ],
 "metadata": {
  "kernelspec": {
   "display_name": "Python 3",
   "language": "python",
   "name": "python3"
  },
  "language_info": {
   "codemirror_mode": {
    "name": "ipython",
    "version": 3
   },
   "file_extension": ".py",
   "mimetype": "text/x-python",
   "name": "python",
   "nbconvert_exporter": "python",
   "pygments_lexer": "ipython3",
   "version": "3.7.3"
  }
 },
 "nbformat": 4,
 "nbformat_minor": 2
}
